{
 "cells": [
  {
   "cell_type": "markdown",
   "metadata": {},
   "source": [
    "### Embedding 계층 구현"
   ]
  },
  {
   "cell_type": "code",
   "execution_count": 8,
   "metadata": {},
   "outputs": [
    {
     "data": {
      "text/plain": [
       "array([[ 0,  1,  2],\n",
       "       [ 3,  4,  5],\n",
       "       [ 6,  7,  8],\n",
       "       [ 9, 10, 11],\n",
       "       [12, 13, 14],\n",
       "       [15, 16, 17],\n",
       "       [18, 19, 20]])"
      ]
     },
     "execution_count": 8,
     "metadata": {},
     "output_type": "execute_result"
    }
   ],
   "source": [
    "import numpy as np\n",
    "W = np.arange(21).reshape(7, 3)\n",
    "W"
   ]
  },
  {
   "cell_type": "code",
   "execution_count": 9,
   "metadata": {},
   "outputs": [
    {
     "name": "stdout",
     "output_type": "stream",
     "text": [
      "(7,)\n"
     ]
    },
    {
     "data": {
      "text/plain": [
       "array([15, 16, 17])"
      ]
     },
     "execution_count": 9,
     "metadata": {},
     "output_type": "execute_result"
    }
   ],
   "source": [
    "word_idx = np.array([0,0,0,0,0,1,0]) \n",
    "print(word_idx.shape)\n",
    "word_vec = np.dot(word_idx, W)  # (7,)(7,3)\n",
    "word_vec"
   ]
  },
  {
   "cell_type": "code",
   "execution_count": 10,
   "metadata": {},
   "outputs": [
    {
     "data": {
      "text/plain": [
       "array([15, 16, 17])"
      ]
     },
     "execution_count": 10,
     "metadata": {},
     "output_type": "execute_result"
    }
   ],
   "source": [
    "W[5]"
   ]
  },
  {
   "cell_type": "code",
   "execution_count": 11,
   "metadata": {},
   "outputs": [
    {
     "name": "stdout",
     "output_type": "stream",
     "text": [
      "(3, 7)\n"
     ]
    },
    {
     "data": {
      "text/plain": [
       "array([[0, 1, 2],\n",
       "       [3, 4, 5],\n",
       "       [6, 7, 8]])"
      ]
     },
     "execution_count": 11,
     "metadata": {},
     "output_type": "execute_result"
    }
   ],
   "source": [
    "word_idx = np.array([[1,0,0,0,0,0,0],\n",
    "                     [0,1,0,0,0,0,0],\n",
    "                     [0,0,1,0,0,0,0]]) \n",
    "print(word_idx.shape)\n",
    "word_vec = np.dot(word_idx, W)  # (3,7)(7,3)\n",
    "word_vec"
   ]
  },
  {
   "cell_type": "code",
   "execution_count": 12,
   "metadata": {},
   "outputs": [
    {
     "data": {
      "text/plain": [
       "array([[0, 1, 2],\n",
       "       [3, 4, 5],\n",
       "       [6, 7, 8]])"
      ]
     },
     "execution_count": 12,
     "metadata": {},
     "output_type": "execute_result"
    }
   ],
   "source": [
    "idx = np.array([0,1,2])\n",
    "W[idx]  # W[[0,1,2]]"
   ]
  },
  {
   "cell_type": "code",
   "execution_count": 26,
   "metadata": {},
   "outputs": [],
   "source": [
    "class Embedding:\n",
    "    def __init__(self, W):\n",
    "        self.params = [W]\n",
    "        self.grads = [np.zeros_like(W)]\n",
    "        self.idx = None\n",
    "\n",
    "    def forward(self, idx):\n",
    "        W, = self.params\n",
    "        self.idx = idx\n",
    "        out = W[idx]\n",
    "        return out\n",
    "    \n",
    "    def backward(self, dout):\n",
    "        dW, = self.grads\n",
    "        dW[...] = 0\n",
    "        dW[self.idx] = dout\n",
    "        return None"
   ]
  },
  {
   "cell_type": "code",
   "execution_count": 30,
   "metadata": {},
   "outputs": [
    {
     "name": "stdout",
     "output_type": "stream",
     "text": [
      "[0, 1, 2, 0]\n",
      "[[0 1 2]\n",
      " [3 4 5]\n",
      " [6 7 8]\n",
      " [0 1 2]]\n",
      "[array([[4, 4, 4],\n",
      "       [2, 2, 2],\n",
      "       [3, 3, 3],\n",
      "       [0, 0, 0],\n",
      "       [0, 0, 0],\n",
      "       [0, 0, 0],\n",
      "       [0, 0, 0]])]\n"
     ]
    }
   ],
   "source": [
    "W = np.arange(21).reshape(7, 3)\n",
    "embed = Embedding(W)\n",
    "out = embed.forward([0,1,2,0])\n",
    "print(embed.idx)\n",
    "print(out)\n",
    "dout = np.array([[1,1,1],[2,2,2],[3,3,3],[4,4,4]])\n",
    "embed.backward(dout)\n",
    "print(embed.grads)"
   ]
  },
  {
   "cell_type": "code",
   "execution_count": 31,
   "metadata": {},
   "outputs": [],
   "source": [
    "class Embedding:\n",
    "    def __init__(self, W):\n",
    "        self.params = [W]\n",
    "        self.grads = [np.zeros_like(W)]\n",
    "        self.idx = None\n",
    "\n",
    "    def forward(self, idx):\n",
    "        W, = self.params\n",
    "        self.idx = idx\n",
    "        out = W[idx]\n",
    "        return out\n",
    "\n",
    "    def backward(self, dout):\n",
    "        dW, = self.grads\n",
    "        dW[...] = 0\n",
    "        for i, word_id in enumerate(self.idx):\n",
    "            dW[word_id] += dout[i]\n",
    "        return None"
   ]
  },
  {
   "cell_type": "code",
   "execution_count": 32,
   "metadata": {},
   "outputs": [
    {
     "name": "stdout",
     "output_type": "stream",
     "text": [
      "[0, 1, 2, 0]\n",
      "[[0 1 2]\n",
      " [3 4 5]\n",
      " [6 7 8]\n",
      " [0 1 2]]\n",
      "[array([[5, 5, 5],\n",
      "       [2, 2, 2],\n",
      "       [3, 3, 3],\n",
      "       [0, 0, 0],\n",
      "       [0, 0, 0],\n",
      "       [0, 0, 0],\n",
      "       [0, 0, 0]])]\n"
     ]
    }
   ],
   "source": [
    "W = np.arange(21).reshape(7, 3)\n",
    "embed = Embedding(W)\n",
    "out = embed.forward([0,1,2,0])\n",
    "print(embed.idx)\n",
    "print(out)\n",
    "dout = np.array([[1,1,1],[2,2,2],[3,3,3],[4,4,4]])\n",
    "embed.backward(dout)\n",
    "print(embed.grads)"
   ]
  },
  {
   "cell_type": "code",
   "execution_count": 10,
   "metadata": {},
   "outputs": [],
   "source": [
    "class Embedding:\n",
    "    def __init__(self, W):\n",
    "        self.params = [W]\n",
    "        self.grads = [np.zeros_like(W)]\n",
    "        self.idx = None\n",
    "\n",
    "    def forward(self, idx):\n",
    "        W, = self.params\n",
    "        self.idx = idx\n",
    "        out = W[idx]\n",
    "        return out\n",
    "\n",
    "    def backward(self, dout):\n",
    "        dW, = self.grads\n",
    "        dW[...] = 0\n",
    "        np.add.at(dW, self.idx, dout)\n",
    "        return None"
   ]
  },
  {
   "cell_type": "code",
   "execution_count": 33,
   "metadata": {},
   "outputs": [
    {
     "name": "stdout",
     "output_type": "stream",
     "text": [
      "[0, 1, 2, 0]\n",
      "[[0 1 2]\n",
      " [3 4 5]\n",
      " [6 7 8]\n",
      " [0 1 2]]\n",
      "[array([[5, 5, 5],\n",
      "       [2, 2, 2],\n",
      "       [3, 3, 3],\n",
      "       [0, 0, 0],\n",
      "       [0, 0, 0],\n",
      "       [0, 0, 0],\n",
      "       [0, 0, 0]])]\n"
     ]
    }
   ],
   "source": [
    "W = np.arange(21).reshape(7, 3)\n",
    "embed = Embedding(W)\n",
    "out = embed.forward([0,1,2,0])\n",
    "print(embed.idx)\n",
    "print(out)\n",
    "dout = np.array([[1,1,1],[2,2,2],[3,3,3],[4,4,4]])\n",
    "embed.backward(dout)\n",
    "print(embed.grads)"
   ]
  }
 ],
 "metadata": {
  "kernelspec": {
   "display_name": "Python 3",
   "language": "python",
   "name": "python3"
  },
  "language_info": {
   "codemirror_mode": {
    "name": "ipython",
    "version": 3
   },
   "file_extension": ".py",
   "mimetype": "text/x-python",
   "name": "python",
   "nbconvert_exporter": "python",
   "pygments_lexer": "ipython3",
   "version": "3.8.8"
  }
 },
 "nbformat": 4,
 "nbformat_minor": 4
}
